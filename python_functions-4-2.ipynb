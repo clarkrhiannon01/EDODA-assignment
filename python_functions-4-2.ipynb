{
 "cells": [
  {
   "cell_type": "markdown",
   "metadata": {
    "tags": []
   },
   "source": [
    "# Assignment 4: Python Functions\n",
    "\n",
    "\n",
    "```{admonition} Learning Goals\n",
    ":class: tip\n",
    "\n",
    "This assignment will verify that you have the following skills:\n",
    "- Define functions\n",
    "- Use optional keyword arguments in functions\n",
    "```"
   ]
  },
  {
   "cell_type": "markdown",
   "metadata": {},
   "source": [
    "## Part I: Practice with Functions\n",
    "\n",
    "### 1. Write a function to convert temperature from kelvin to celsius and celsius to kelvin"
   ]
  },
  {
   "cell_type": "code",
   "execution_count": 1,
   "metadata": {},
   "outputs": [
    {
     "name": "stdin",
     "output_type": "stream",
     "text": [
      "Enter temperature in C-Scale:  32\n"
     ]
    },
    {
     "name": "stdout",
     "output_type": "stream",
     "text": [
      "The tempeature in K-Scale: 305.15\n"
     ]
    }
   ],
   "source": [
    "c = float(input(\"Enter temperature in C-Scale: \"))\n",
    "k = c + 273.15\n",
    "print(\"The tempeature in K-Scale:\",round(k,2))"
   ]
  },
  {
   "cell_type": "markdown",
   "metadata": {
    "tags": []
   },
   "source": [
    "### 2. Write a function to convert temperature to fahrenheit\n",
    "\n",
    "Include an optional keyword argument to specify whether the input is in  celcius or kelvin.\n",
    "Call your previously defined functions if necessary."
   ]
  },
  {
   "cell_type": "code",
   "execution_count": 2,
   "metadata": {},
   "outputs": [
    {
     "name": "stdout",
     "output_type": "stream",
     "text": [
      "37.5 degree Celsius is equal to 99.5 degree Fahrenheit\n"
     ]
    }
   ],
   "source": [
    "celsius = 37.5\n",
    "fahrenheit = (celsius * 1.8) + 32\n",
    "print('%0.1f degree Celsius is equal to %0.1f degree Fahrenheit' %(celsius,fahrenheit))"
   ]
  },
  {
   "cell_type": "markdown",
   "metadata": {},
   "source": [
    "### 3) Check that the outputs are sensible by trying a few examples"
   ]
  },
  {
   "cell_type": "code",
   "execution_count": 3,
   "metadata": {},
   "outputs": [
    {
     "name": "stdin",
     "output_type": "stream",
     "text": [
      "Enter temperature in C-Scale:  21\n"
     ]
    },
    {
     "name": "stdout",
     "output_type": "stream",
     "text": [
      "The tempeature in K-Scale: 294.15\n"
     ]
    }
   ],
   "source": [
    "# this is an example \n",
    "c = float(input(\"Enter temperature in C-Scale: \"))\n",
    "k = c + 273.15\n",
    "print(\"The tempeature in K-Scale:\",round(k,2))"
   ]
  },
  {
   "cell_type": "code",
   "execution_count": 4,
   "metadata": {},
   "outputs": [
    {
     "name": "stdin",
     "output_type": "stream",
     "text": [
      "Enter temperature in C-Scale:  45\n"
     ]
    },
    {
     "name": "stdout",
     "output_type": "stream",
     "text": [
      "The tempeature in K-Scale: 318.15\n"
     ]
    }
   ],
   "source": [
    "# this is an example \n",
    "c = float(input(\"Enter temperature in C-Scale: \"))\n",
    "k = c + 273.15\n",
    "print(\"The tempeature in K-Scale:\",round(k,2))"
   ]
  },
  {
   "cell_type": "markdown",
   "metadata": {},
   "source": [
    "### 4) Now write a function that converts _from_ farenheit and uses a keyword argument to specify whether you want the output in celcius or kelvin"
   ]
  },
  {
   "cell_type": "code",
   "execution_count": 7,
   "metadata": {},
   "outputs": [
    {
     "name": "stdin",
     "output_type": "stream",
     "text": [
      "Input the  temperature you like to convert? (e.g., 45F, 102C etc.) :  34F\n"
     ]
    },
    {
     "name": "stdout",
     "output_type": "stream",
     "text": [
      "The temperature in Celsius is 1 degrees.\n"
     ]
    }
   ],
   "source": [
    "temp = input(\"Input the  temperature you like to convert? (e.g., 45F, 102C etc.) : \")\n",
    "degree = int(temp[:-1])\n",
    "i_convention = temp[-1]\n",
    "\n",
    "if i_convention.upper() == \"C\":\n",
    "  result = int(round((9 * degree) / 5 + 32))\n",
    "  o_convention = \"Fahrenheit\"\n",
    "elif i_convention.upper() == \"F\":\n",
    "  result = int(round((degree - 32) * 5 / 9))\n",
    "  o_convention = \"Celsius\"\n",
    "else:\n",
    "  print(\"Input proper convention.\")\n",
    "  quit()\n",
    "print(\"The temperature in\", o_convention, \"is\", result, \"degrees.\")"
   ]
  },
  {
   "cell_type": "markdown",
   "metadata": {},
   "source": [
    "### 5) Write a function that takes two arguments (feet and inches) and returns height in meters\n",
    "\n",
    "Verify it gives sensible answers"
   ]
  },
  {
   "cell_type": "code",
   "execution_count": 5,
   "metadata": {},
   "outputs": [
    {
     "name": "stdout",
     "output_type": "stream",
     "text": [
      "Input your measurment: \n"
     ]
    },
    {
     "name": "stdin",
     "output_type": "stream",
     "text": [
      "Feet:  21\n",
      "Inches:  1\n"
     ]
    },
    {
     "name": "stdout",
     "output_type": "stream",
     "text": [
      "Your meaurment is : 642 cm.\n"
     ]
    }
   ],
   "source": [
    "print(\"Input your measurment: \")\n",
    "m_ft = int(input(\"Feet: \"))\n",
    "m_inch = int(input(\"Inches: \"))\n",
    "m_inch += m_ft * 12\n",
    "m_cm = round(m_inch * 2.54, 1)\n",
    "print(\"Your meaurment is : %d cm.\" % m_cm)"
   ]
  },
  {
   "cell_type": "markdown",
   "metadata": {},
   "source": [
    "### 6. Write a function takes one argument (height in meters) and returns two arguments (feet and inches)\n",
    "\n",
    "(Consult the [tutorial on numbers](https://docs.python.org/3/tutorial/introduction.html#numbers) if you are stuck on how to implement this.)"
   ]
  },
  {
   "cell_type": "code",
   "execution_count": 6,
   "metadata": {},
   "outputs": [
    {
     "name": "stdout",
     "output_type": "stream",
     "text": [
      "Input your measurment: \n"
     ]
    },
    {
     "name": "stdin",
     "output_type": "stream",
     "text": [
      "Meters:  21\n",
      "Inches:  3\n"
     ]
    },
    {
     "name": "stdout",
     "output_type": "stream",
     "text": [
      "Your meaurment is : 647 cm.\n"
     ]
    }
   ],
   "source": [
    "print(\"Input your measurment: \")\n",
    "m_mt = int(input(\"Meters: \"))\n",
    "m_inch = int(input(\"Inches: \"))\n",
    "m_inch += m_ft * 12\n",
    "m_cm = round(m_inch * 2.54, 1)\n",
    "print(\"Your meaurment is : %d cm.\" % m_cm)"
   ]
  },
  {
   "cell_type": "markdown",
   "metadata": {
    "tags": []
   },
   "source": [
    "### 7) Verify that the \"round trip\" conversion from and back to meters is consistent \n",
    "\n",
    "Check for 3 different values of height in meters"
   ]
  },
  {
   "cell_type": "code",
   "execution_count": 8,
   "metadata": {},
   "outputs": [
    {
     "name": "stdout",
     "output_type": "stream",
     "text": [
      "Input your measurment: \n"
     ]
    },
    {
     "name": "stdin",
     "output_type": "stream",
     "text": [
      "Feet:  21\n",
      "Inches:  1\n"
     ]
    },
    {
     "name": "stdout",
     "output_type": "stream",
     "text": [
      "Your meaurment is : 642 cm.\n"
     ]
    }
   ],
   "source": [
    "print(\"Input your measurment: \")\n",
    "m_ft = int(input(\"Feet: \"))\n",
    "m_inch = int(input(\"Inches: \"))\n",
    "m_inch += m_ft * 12\n",
    "m_cm = round(m_inch * 2.54, 1)\n",
    "print(\"Your meaurment is : %d cm.\" % m_cm)"
   ]
  },
  {
   "cell_type": "code",
   "execution_count": null,
   "metadata": {},
   "outputs": [],
   "source": []
  }
 ],
 "metadata": {
  "kernelspec": {
   "display_name": "Python 3 (ipykernel)",
   "language": "python",
   "name": "python3"
  },
  "language_info": {
   "codemirror_mode": {
    "name": "ipython",
    "version": 3
   },
   "file_extension": ".py",
   "mimetype": "text/x-python",
   "name": "python",
   "nbconvert_exporter": "python",
   "pygments_lexer": "ipython3",
   "version": "3.9.7"
  }
 },
 "nbformat": 4,
 "nbformat_minor": 4
}
