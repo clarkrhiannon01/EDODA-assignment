{
 "cells": [
  {
   "cell_type": "code",
   "execution_count": 7,
   "id": "fd798666-1ed4-470c-810a-7eb6c96edb1a",
   "metadata": {},
   "outputs": [
    {
     "data": {
      "text/plain": [
       "8"
      ]
     },
     "execution_count": 7,
     "metadata": {},
     "output_type": "execute_result"
    }
   ],
   "source": [
    "len(planets)"
   ]
  },
  {
   "cell_type": "code",
   "execution_count": 8,
   "id": "13bee790-d911-4cc4-9039-abcd99fbb2d0",
   "metadata": {},
   "outputs": [
    {
     "data": {
      "text/plain": [
       "['MERCURY', 'VENUS', 'EARTH', 'MARS']"
      ]
     },
     "execution_count": 8,
     "metadata": {},
     "output_type": "execute_result"
    }
   ],
   "source": [
    "planets[0:4]"
   ]
  },
  {
   "cell_type": "code",
   "execution_count": 11,
   "id": "83332490-ffe7-4a96-9372-a56c9df642ca",
   "metadata": {},
   "outputs": [
    {
     "name": "stdout",
     "output_type": "stream",
     "text": [
      "VENUS\n",
      "MARS\n",
      "URANUS\n"
     ]
    }
   ],
   "source": [
    "for planet in planets:\n",
    "    if planet[-1] == \"S\":\n",
    "        print(planet)"
   ]
  },
  {
   "cell_type": "code",
   "execution_count": null,
   "id": "fd6e8f4f-fc30-467f-918a-799ffe495e26",
   "metadata": {},
   "outputs": [],
   "source": []
  },
  {
   "cell_type": "code",
   "execution_count": 15,
   "id": "e0051adf-9d36-407f-9b94-75423539d548",
   "metadata": {},
   "outputs": [],
   "source": [
    "planets = [\"MERCURY\", \"VENUS\", \"EARTH\", \"MARS\", \"JUPITER\", \"SATURN\", \"URANUS\", \"NEPTUNE\"]"
   ]
  },
  {
   "cell_type": "code",
   "execution_count": 12,
   "id": "76b32070-269a-4b75-af1f-850ea70003c9",
   "metadata": {},
   "outputs": [
    {
     "name": "stdout",
     "output_type": "stream",
     "text": [
      "SATURN\n"
     ]
    }
   ],
   "source": [
    "for planet in planets:\n",
    "    if planet[0] == \"S\":\n",
    "        print(planet)"
   ]
  },
  {
   "cell_type": "code",
   "execution_count": 13,
   "id": "2c7ef2a7-897b-48b3-bed3-6e444c3c1d6f",
   "metadata": {},
   "outputs": [],
   "source": [
    "planets = [\"MERCURY\", \"VENUS\", \"EARTH\", \"MARS\", \"JUPITER\", \"SATURN\", \"URANUS\", \"NEPTUNE\"]"
   ]
  },
  {
   "cell_type": "code",
   "execution_count": null,
   "id": "c12c706d-3250-4a34-b5d9-9ef0fe430b38",
   "metadata": {},
   "outputs": [],
   "source": []
  },
  {
   "cell_type": "code",
   "execution_count": 44,
   "id": "c4d019c2-eeaf-4671-a4f9-8189211477fd",
   "metadata": {},
   "outputs": [],
   "source": [
    "planets_mass = {\"MERCURY\" : 0.33, \"VENUS\" : .49, \"EARTH\" : .597, \"MARS\" : .64, \"JUPITER\" : .19, \"SATURN\" : .57, \"URANUS\" : .87, \"NEPTUNE\" : .10}\n",
    "max = (100)\n"
   ]
  },
  {
   "cell_type": "code",
   "execution_count": 34,
   "id": "2cf94c2a-4fe8-4473-a163-f18f2e28653a",
   "metadata": {},
   "outputs": [
    {
     "name": "stdout",
     "output_type": "stream",
     "text": [
      "0.597\n"
     ]
    }
   ],
   "source": [
    "print (mass [ 'EARTH' ])"
   ]
  },
  {
   "cell_type": "code",
   "execution_count": 45,
   "id": "bcd10663-4d7d-4093-acce-5dd4b7020a7d",
   "metadata": {},
   "outputs": [],
   "source": [
    "for planets in planet_mass:\n",
    "    if planet_mass[planets] > max: \n",
    "        print (planets)"
   ]
  },
  {
   "cell_type": "code",
   "execution_count": 46,
   "id": "16226a95-a55b-47cd-935e-47709d038cea",
   "metadata": {},
   "outputs": [
    {
     "name": "stdout",
     "output_type": "stream",
     "text": [
      "{'PLUTO': 0.0013}\n"
     ]
    }
   ],
   "source": [
    "\n",
    "planet_mass[ \"PLUTO\" ] = .00130\n",
    "print(planet_mass)"
   ]
  },
  {
   "cell_type": "code",
   "execution_count": 47,
   "id": "3d71ab41-ad6b-47a8-bb59-4e2bcab53597",
   "metadata": {},
   "outputs": [
    {
     "name": "stdout",
     "output_type": "stream",
     "text": [
      "{'PLUTO': 0.0013}\n"
     ]
    }
   ],
   "source": [
    "planets_mass = {\"MERCURY\" : 0.33, \"VENUS\" : .49, \"EARTH\" : .597, \"MARS\" : .64, \"JUPITER\" : .19, \"SATURN\" : .57, \"URANUS\" : .87, \"NEPTUNE\" : .10}\n",
    "planet_mass [\"PLUTO\"] = 0.00130\n",
    "print(planet_mass)"
   ]
  },
  {
   "cell_type": "code",
   "execution_count": null,
   "id": "72cd15cb-b320-4bc2-a6ea-21c4924771e8",
   "metadata": {},
   "outputs": [],
   "source": []
  }
 ],
 "metadata": {
  "kernelspec": {
   "display_name": "Python 3 (ipykernel)",
   "language": "python",
   "name": "python3"
  },
  "language_info": {
   "codemirror_mode": {
    "name": "ipython",
    "version": 3
   },
   "file_extension": ".py",
   "mimetype": "text/x-python",
   "name": "python",
   "nbconvert_exporter": "python",
   "pygments_lexer": "ipython3",
   "version": "3.9.7"
  }
 },
 "nbformat": 4,
 "nbformat_minor": 5
}
